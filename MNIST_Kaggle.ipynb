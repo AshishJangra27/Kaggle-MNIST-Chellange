{
  "nbformat": 4,
  "nbformat_minor": 0,
  "metadata": {
    "colab": {
      "name": "MNIST Kaggle.ipynb",
      "provenance": []
    },
    "kernelspec": {
      "name": "python3",
      "display_name": "Python 3"
    },
    "accelerator": "GPU"
  },
  "cells": [
    {
      "cell_type": "code",
      "metadata": {
        "id": "MaTO7ElVx36K",
        "colab_type": "code",
        "colab": {}
      },
      "source": [
        "import cv2 as cv\n",
        "import numpy as np\n",
        "import tensorflow as tf\n",
        "import matplotlib.pyplot as plt\n",
        "\n",
        "\n",
        "from keras.models import Sequential, load_model\n",
        "from keras.layers import Dense, Conv2D, Dropout, Flatten, MaxPooling2D"
      ],
      "execution_count": 0,
      "outputs": []
    },
    {
      "cell_type": "code",
      "metadata": {
        "id": "dXhbh62Ux7aM",
        "colab_type": "code",
        "colab": {
          "base_uri": "https://localhost:8080/",
          "height": 595
        },
        "outputId": "f4dcf881-585d-4052-e3cd-2c58cf49a0cd"
      },
      "source": [
        "(x_train, y_train), (x_test, y_test) = tf.keras.datasets.mnist.load_data()\n",
        "\n",
        "x_train =  x_train.reshape(x_train.shape[0], 28, 28, 1)\n",
        "x_test  =  x_test.reshape (x_test.shape[0], 28, 28, 1)\n",
        "\n",
        "x_train = x_train / 255.0\n",
        "x_test  = x_test  / 255.0\n",
        "\n",
        "print('Number of images in x_train    : ', x_train.shape[0])\n",
        "print('Number of images in x_test     : ', x_test.shape[0])\n",
        "print()\n",
        "\n",
        "\n",
        "model = Sequential()\n",
        "\n",
        "model.add(Conv2D(32, kernel_size=(3,3), input_shape = (28,28,1)))\n",
        "model.add(Conv2D(32, kernel_size=(3,3)))\n",
        "\n",
        "model.add(MaxPooling2D(pool_size=(2, 2)))\n",
        "\n",
        "model.add(Conv2D(64, kernel_size=(3,3)))\n",
        "model.add(Conv2D(64, kernel_size=(3,3)))\n",
        "\n",
        "model.add(MaxPooling2D(pool_size=(2, 2)))\n",
        "\n",
        "model.add(Flatten())\n",
        "model.add(Dense(128, activation = 'relu'))\n",
        "model.add(Dropout(0.2))\n",
        "\n",
        "model.add(Dense(10,activation = 'softmax'))\n",
        "\n",
        "\n",
        "model.compile( optimizer='adam', loss='sparse_categorical_crossentropy', metrics=['accuracy'])\n",
        "\n",
        "model.fit(x = x_train,y = y_train, epochs = 15)"
      ],
      "execution_count": 83,
      "outputs": [
        {
          "output_type": "stream",
          "text": [
            "Number of images in x_train    :  60000\n",
            "Number of images in x_test     :  10000\n",
            "\n",
            "Epoch 1/15\n",
            "60000/60000 [==============================] - 8s 136us/step - loss: 0.1459 - accuracy: 0.9554\n",
            "Epoch 2/15\n",
            "60000/60000 [==============================] - 8s 131us/step - loss: 0.0664 - accuracy: 0.9800\n",
            "Epoch 3/15\n",
            "60000/60000 [==============================] - 8s 133us/step - loss: 0.0542 - accuracy: 0.9834\n",
            "Epoch 4/15\n",
            "60000/60000 [==============================] - 8s 132us/step - loss: 0.0488 - accuracy: 0.9854\n",
            "Epoch 5/15\n",
            "60000/60000 [==============================] - 8s 131us/step - loss: 0.0422 - accuracy: 0.9868\n",
            "Epoch 6/15\n",
            "60000/60000 [==============================] - 8s 131us/step - loss: 0.0398 - accuracy: 0.9875\n",
            "Epoch 7/15\n",
            "60000/60000 [==============================] - 8s 131us/step - loss: 0.0340 - accuracy: 0.9898\n",
            "Epoch 8/15\n",
            "60000/60000 [==============================] - 8s 131us/step - loss: 0.0348 - accuracy: 0.9894\n",
            "Epoch 9/15\n",
            "60000/60000 [==============================] - 8s 134us/step - loss: 0.0332 - accuracy: 0.9901\n",
            "Epoch 10/15\n",
            "60000/60000 [==============================] - 8s 129us/step - loss: 0.0316 - accuracy: 0.9906\n",
            "Epoch 11/15\n",
            "60000/60000 [==============================] - 8s 132us/step - loss: 0.0280 - accuracy: 0.9919\n",
            "Epoch 12/15\n",
            "60000/60000 [==============================] - 8s 130us/step - loss: 0.0282 - accuracy: 0.9917\n",
            "Epoch 13/15\n",
            "60000/60000 [==============================] - 8s 129us/step - loss: 0.0294 - accuracy: 0.9919\n",
            "Epoch 14/15\n",
            "60000/60000 [==============================] - 8s 130us/step - loss: 0.0248 - accuracy: 0.9932\n",
            "Epoch 15/15\n",
            "60000/60000 [==============================] - 8s 130us/step - loss: 0.0304 - accuracy: 0.9915\n"
          ],
          "name": "stdout"
        },
        {
          "output_type": "execute_result",
          "data": {
            "text/plain": [
              "<keras.callbacks.callbacks.History at 0x7f6973f58da0>"
            ]
          },
          "metadata": {
            "tags": []
          },
          "execution_count": 83
        }
      ]
    },
    {
      "cell_type": "code",
      "metadata": {
        "id": "7usv5K4ryV5G",
        "colab_type": "code",
        "colab": {
          "base_uri": "https://localhost:8080/",
          "height": 51
        },
        "outputId": "67814c47-480d-42b3-e2f1-fa2e755fe4bc"
      },
      "source": [
        "model.evaluate(x_test, y_test)"
      ],
      "execution_count": 84,
      "outputs": [
        {
          "output_type": "stream",
          "text": [
            "10000/10000 [==============================] - 1s 66us/step\n"
          ],
          "name": "stdout"
        },
        {
          "output_type": "execute_result",
          "data": {
            "text/plain": [
              "[0.04387846355820178, 0.9908999800682068]"
            ]
          },
          "metadata": {
            "tags": []
          },
          "execution_count": 84
        }
      ]
    },
    {
      "cell_type": "code",
      "metadata": {
        "id": "PTlOzH33FJwi",
        "colab_type": "code",
        "colab": {}
      },
      "source": [
        "model.save('CNN.hdf5')"
      ],
      "execution_count": 0,
      "outputs": []
    },
    {
      "cell_type": "code",
      "metadata": {
        "id": "cEwZMREIFdZ_",
        "colab_type": "code",
        "colab": {}
      },
      "source": [
        ""
      ],
      "execution_count": 0,
      "outputs": []
    }
  ]
}