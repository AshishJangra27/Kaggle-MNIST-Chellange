{
 "cells": [
  {
   "cell_type": "code",
   "execution_count": 134,
   "metadata": {},
   "outputs": [],
   "source": [
    "import numpy as np\n",
    "import pandas as pd\n",
    "from tqdm import tqdm\n",
    "\n",
    "from keras.models import load_model\n",
    "\n",
    "import matplotlib.pyplot as plt\n",
    "\n",
    "model = load_model('CNN.hdf5')"
   ]
  },
  {
   "cell_type": "code",
   "execution_count": 135,
   "metadata": {},
   "outputs": [],
   "source": [
    "df = pd.read_csv('test.csv').values"
   ]
  },
  {
   "cell_type": "code",
   "execution_count": 136,
   "metadata": {},
   "outputs": [],
   "source": [
    "r = []\n",
    "\n",
    "for i in range(len(df)): \n",
    "    \n",
    "    img = np.reshape(df[i], (28,28))\n",
    "    img = img / 255.\n",
    "    img = np.reshape(img, (1,28,28,1))\n",
    "    \n",
    "    r.append(str(np.argmax(model.predict(img))))\n",
    "    \n",
    "r = np.array(r)"
   ]
  },
  {
   "cell_type": "code",
   "execution_count": 137,
   "metadata": {},
   "outputs": [],
   "source": [
    "df = pd.read_csv('sample_submission.csv').values\n",
    "\n",
    "\n",
    "f = open('pred.txt','r+')\n",
    "\n",
    "f.write('ImageId,Label ')\n",
    "f.write('\\n')\n",
    "\n",
    "for i in range(len(r)):\n",
    "            \n",
    "    pred = str(df[i][0]) + \",\" + str(r[i])\n",
    "    f.write(pred)\n",
    "    f.write('\\n')\n",
    "    \n",
    "f.close()"
   ]
  }
 ],
 "metadata": {
  "kernelspec": {
   "display_name": "Python 2",
   "language": "python",
   "name": "python2"
  },
  "language_info": {
   "codemirror_mode": {
    "name": "ipython",
    "version": 2
   },
   "file_extension": ".py",
   "mimetype": "text/x-python",
   "name": "python",
   "nbconvert_exporter": "python",
   "pygments_lexer": "ipython2",
   "version": "2.7.16"
  }
 },
 "nbformat": 4,
 "nbformat_minor": 2
}
